{
  "nbformat": 4,
  "nbformat_minor": 0,
  "metadata": {
    "colab": {
      "provenance": []
    },
    "kernelspec": {
      "name": "python3",
      "display_name": "Python 3"
    },
    "language_info": {
      "name": "python"
    }
  },
  "cells": [
    {
      "cell_type": "code",
      "execution_count": 1,
      "metadata": {
        "colab": {
          "base_uri": "https://localhost:8080/"
        },
        "id": "CuwPHrCPnXBO",
        "outputId": "00a52089-f002-4d21-8cb3-14980d7a70e0"
      },
      "outputs": [
        {
          "output_type": "stream",
          "name": "stdout",
          "text": [
            "Now Scrapinghttp://quotes.toscrape.com//page/1\n",
            "Here's a quote: \n",
            "“Imperfection is beauty, madness is genius and it's better to be absolutely ridiculous than absolutely boring.”\n",
            "Who said this quote? Guesses remaining 4joe\n",
            "Here's a hint: The author was born on June 01, 1926in The United States\n",
            "Who said this quote? Guesses remaining 3hoe\n",
            "Here's a hint: The author's first name starts with: M\n",
            "Who said this quote? Guesses remaining 2loe\n",
            "Here's a hint: The author's last name starts with: M\n",
            "Who said this quote? Guesses remaining 1koe\n",
            "Sorry, you ran out of guesses. The answer was Marilyn Monroe\n"
          ]
        }
      ],
      "source": [
        "import requests\n",
        "from bs4 import BeautifulSoup\n",
        "from csv import writer\n",
        "from time import sleep\n",
        "from random import choice\n",
        "\n",
        "\n",
        "all_quotes = []\n",
        "\n",
        "\n",
        "base_url = \"http://quotes.toscrape.com/\"\n",
        "\n",
        "\n",
        "url = \"/page/1\"\n",
        "\n",
        "while url:\n",
        "\n",
        "\n",
        "\tres = requests.get(f\"{base_url}{url}\")\n",
        "\tprint(f\"Now Scraping{base_url}{url}\")\n",
        "\tsoup = BeautifulSoup(res.text, \"html.parser\")\n",
        "\n",
        "\n",
        "\tquotes = soup.find_all(class_=\"quote\")\n",
        "\n",
        "\tfor quote in quotes:\n",
        "\t\tall_quotes.append({\n",
        "\t\t\t\"text\": quote.find(class_=\"text\").get_text(),\n",
        "\t\t\t\"author\": quote.find(class_=\"author\").get_text(),\n",
        "\t\t\t\"bio-link\": quote.find(\"a\")[\"href\"]\n",
        "\t\t})\n",
        "\tnext_btn = soup.find(_class=\"next\")\n",
        "\turl = next_btn.find(\"a\")[\"href\"] if next_btn else None\n",
        "\tsleep(2)\n",
        "\n",
        "quote = choice(all_quotes)\n",
        "remaining_guesses = 4\n",
        "print(\"Here's a quote: \")\n",
        "print(quote[\"text\"])\n",
        "\n",
        "guess = ''\n",
        "while guess.lower() != quote[\"author\"].lower() and remaining_guesses > 0:\n",
        "\tguess = input(\n",
        "\t\tf\"Who said this quote? Guesses remaining {remaining_guesses}\")\n",
        "\n",
        "\tif guess == quote[\"author\"]:\n",
        "\t\tprint(\"CONGRATULATIONS!!! YOU GOT IT RIGHT\")\n",
        "\t\tbreak\n",
        "\tremaining_guesses -= 1\n",
        "\n",
        "\tif remaining_guesses == 3:\n",
        "\t\tres = requests.get(f\"{base_url}{quote['bio-link']}\")\n",
        "\t\tsoup = BeautifulSoup(res.text, \"html.parser\")\n",
        "\t\tbirth_date = soup.find(class_=\"author-born-date\").get_text()\n",
        "\t\tbirth_place = soup.find(class_=\"author-born-location\").get_text()\n",
        "\t\tprint(\n",
        "\t\t\tf\"Here's a hint: The author was born on {birth_date}{birth_place}\")\n",
        "\n",
        "\telif remaining_guesses == 2:\n",
        "\t\tprint(\n",
        "\t\t\tf\"Here's a hint: The author's first name starts with: {quote['author'][0]}\")\n",
        "\n",
        "\telif remaining_guesses == 1:\n",
        "\t\tlast_initial = quote[\"author\"].split(\" \")[1][0]\n",
        "\t\tprint(\n",
        "\t\t\tf\"Here's a hint: The author's last name starts with: {last_initial}\")\n",
        "\n",
        "\telse:\n",
        "\t\tprint(\n",
        "\t\t\tf\"Sorry, you ran out of guesses. The answer was {quote['author']}\")\n"
      ]
    }
  ]
}